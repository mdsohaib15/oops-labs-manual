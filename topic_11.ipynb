{
 "cells": [
  {
   "cell_type": "code",
   "execution_count": 5,
   "metadata": {},
   "outputs": [
    {
     "name": "stdout",
     "output_type": "stream",
     "text": [
      "\n",
      "Pressure is 0.007956715467854869\n",
      "Volume is 37704.0\n",
      "\n",
      "\n",
      "Pressure is 0.0022222222222222222\n",
      "Volume is 90000\n",
      "\n"
     ]
    }
   ],
   "source": [
    "# --------------------- OPEN ENDED LAB ------------------------------- \n",
    "# Question: Create a class named as along with member function. Calculate pressure and volume. create class for two different shapes of pipes \n",
    "# and measure the pressure and volume of crosssection.\n",
    "# Area  = pie x r2 , Volume  = Pie x r2 x l\n",
    "# Area = lxb, Volume = l x b x h\n",
    "\n",
    "\n",
    "class Parameter:\n",
    "    def CalculatePressure(self,area,force):\n",
    "        self.pressure = force/area\n",
    "        print(f'\\nPressure is {self.pressure}')\n",
    "    def CalculateVolume(self,area, length):\n",
    "        self.volume = area * length\n",
    "        print(f'Volume is {self.volume}\\n')\n",
    "\n",
    "class Cylinder(Parameter):\n",
    "    def __init__(self,radius,force,length):\n",
    "        self.area = (3.142 * (radius*radius))\n",
    "        self.force = force\n",
    "        self.length = length\n",
    "\n",
    "class Rectangle(Parameter):\n",
    "    def __init__(self,force,length,breath,height):\n",
    "        self.area = length*breath*height\n",
    "        self.force = force\n",
    "        self.length = length\n",
    "\n",
    "\n",
    "P1 = Cylinder(20,10,30)\n",
    "P2 = Rectangle(10,20,15,15)\n",
    "P1.CalculatePressure(P1.area,P1.force)\n",
    "P1.CalculateVolume(P1.area,P1.length)\n",
    "\n",
    "P2.CalculatePressure(P2.area,P2.force)\n",
    "P2.CalculateVolume(P2.area,P2.length)"
   ]
  },
  {
   "cell_type": "code",
   "execution_count": null,
   "metadata": {},
   "outputs": [],
   "source": []
  }
 ],
 "metadata": {
  "kernelspec": {
   "display_name": "Python 3",
   "language": "python",
   "name": "python3"
  },
  "language_info": {
   "codemirror_mode": {
    "name": "ipython",
    "version": 3
   },
   "file_extension": ".py",
   "mimetype": "text/x-python",
   "name": "python",
   "nbconvert_exporter": "python",
   "pygments_lexer": "ipython3",
   "version": "3.11.2"
  }
 },
 "nbformat": 4,
 "nbformat_minor": 2
}
