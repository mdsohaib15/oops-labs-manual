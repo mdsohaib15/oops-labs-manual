{
 "cells": [
  {
   "cell_type": "code",
   "execution_count": 3,
   "metadata": {},
   "outputs": [
    {
     "name": "stdout",
     "output_type": "stream",
     "text": [
      "Circular Pipe:\n",
      "Pressure Drop: 1.5915494309189535\n",
      "Volume: 31.41592653589793\n",
      "\n",
      "Rectangular Pipe:\n",
      "Pressure Drop: 0.5787037037037037\n",
      "Volume: 60\n"
     ]
    }
   ],
   "source": [
    "import math\n",
    "\n",
    "class Pipe:\n",
    "    def __init__(self, length):\n",
    "        self.length = length\n",
    "\n",
    "    def calculate_pressure(self, flow_rate, viscosity):\n",
    "        cross_sectional_area = self.calculate_cross_sectional_area()\n",
    "        velocity = flow_rate / cross_sectional_area\n",
    "        pressure_drop = 4 * viscosity * self.length * velocity / (self.calculate_hydraulic_diameter() ** 2)\n",
    "        return pressure_drop\n",
    "\n",
    "    def calculate_volume(self):\n",
    "        cross_sectional_area = self.calculate_cross_sectional_area()\n",
    "        return cross_sectional_area * self.length\n",
    "\n",
    "    def calculate_cross_sectional_area(self):\n",
    "        raise NotImplementedError(\"Subclasses must implement calculate_cross_sectional_area method\")\n",
    "    \n",
    "    def calculate_hydraulic_diameter(self):\n",
    "        raise NotImplementedError(\"Subclasses must implement calculate_hydraulic_diameter method\")\n",
    "\n",
    "\n",
    "class CircularPipe(Pipe):\n",
    "    def __init__(self, length, diameter):\n",
    "        self.diameter = diameter\n",
    "        super().__init__(length)\n",
    "\n",
    "    def calculate_cross_sectional_area(self):\n",
    "        return math.pi * (self.diameter / 2) ** 2\n",
    "    \n",
    "    def calculate_hydraulic_diameter(self):\n",
    "        return self.diameter\n",
    "\n",
    "\n",
    "class RectangularPipe(Pipe):\n",
    "    def __init__(self, length, width, height):\n",
    "        self.width = width\n",
    "        self.height = height\n",
    "        super().__init__(length)\n",
    "\n",
    "    def calculate_cross_sectional_area(self):\n",
    "        return self.width * self.height\n",
    "    \n",
    "    def calculate_hydraulic_diameter(self):\n",
    "        return 2 * (self.width * self.height) / (self.width + self.height)\n",
    "\n",
    "\n",
    "# Example usage:\n",
    "circular_pipe = CircularPipe(length=10, diameter=2)\n",
    "rectangular_pipe = RectangularPipe(length=10, width=2, height=3)\n",
    "\n",
    "flow_rate = 5  # Example flow rate\n",
    "viscosity = 0.1  # Example viscosity\n",
    "\n",
    "pressure_circular = circular_pipe.calculate_pressure(flow_rate, viscosity)\n",
    "volume_circular = circular_pipe.calculate_volume()\n",
    "\n",
    "pressure_rectangular = rectangular_pipe.calculate_pressure(flow_rate, viscosity)\n",
    "volume_rectangular = rectangular_pipe.calculate_volume()\n",
    "\n",
    "print(\"Circular Pipe:\")\n",
    "print(\"Pressure Drop:\", pressure_circular)\n",
    "print(\"Volume:\", volume_circular)\n",
    "\n",
    "print(\"\\nRectangular Pipe:\")\n",
    "print(\"Pressure Drop:\", pressure_rectangular)\n",
    "print(\"Volume:\", volume_rectangular)\n"
   ]
  },
  {
   "cell_type": "code",
   "execution_count": null,
   "metadata": {},
   "outputs": [],
   "source": []
  }
 ],
 "metadata": {
  "kernelspec": {
   "display_name": "Python 3",
   "language": "python",
   "name": "python3"
  },
  "language_info": {
   "codemirror_mode": {
    "name": "ipython",
    "version": 3
   },
   "file_extension": ".py",
   "mimetype": "text/x-python",
   "name": "python",
   "nbconvert_exporter": "python",
   "pygments_lexer": "ipython3",
   "version": "3.11.2"
  }
 },
 "nbformat": 4,
 "nbformat_minor": 2
}
