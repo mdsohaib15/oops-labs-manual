{
 "cells": [
  {
   "cell_type": "code",
   "execution_count": null,
   "metadata": {},
   "outputs": [],
   "source": [
    "Topic # 11\n",
    "1. Create a class along with membership functions calculate pressure and volume.\n",
    "2. Create class for two different shapes of pipes and measure the pressure and volume of\n",
    "crosection."
   ]
  }
 ],
 "metadata": {
  "language_info": {
   "name": "python"
  }
 },
 "nbformat": 4,
 "nbformat_minor": 2
}
