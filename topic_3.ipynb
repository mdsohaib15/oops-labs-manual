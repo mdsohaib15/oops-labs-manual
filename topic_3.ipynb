{
 "cells": [
  {
   "cell_type": "code",
   "execution_count": null,
   "metadata": {},
   "outputs": [],
   "source": [
    "# 1. Create a simple calculator program in Python that uses arithmetic operators.\n",
    "print(\"calculator\")\n",
    "num1 = int(input(\"Enter first number: \"))\n",
    "num2 = int(input(\"Enter second number: \"))\n",
    "operator = input(\"Enter operator(+,-,*,/): \")\n",
    "if operator == \"+\":\n",
    "    print(num1+num2)\n",
    "elif operator == \"-\":\n",
    "    print(num1-num2)\n",
    "elif operator == \"*\":\n",
    "    print(num1*num2)\n",
    "elif operator == \"/\":\n",
    "    print(num1/num2)\n",
    "else:\n",
    "    print(\"Invalid Syntax!\")"
   ]
  },
  {
   "cell_type": "code",
   "execution_count": 3,
   "metadata": {},
   "outputs": [
    {
     "name": "stdout",
     "output_type": "stream",
     "text": [
      "Mango is present in a list\n"
     ]
    }
   ],
   "source": [
    "# 2. Write a Python function that finds a specific fruit in a list.\n",
    "fruit = ['apple','mango','banana','grapes','orange']\n",
    "if 'mango' in fruit:\n",
    "          print('Mango is present in a list')\n"
   ]
  },
  {
   "cell_type": "code",
   "execution_count": 15,
   "metadata": {},
   "outputs": [
    {
     "name": "stdout",
     "output_type": "stream",
     "text": [
      "Incorrect Number!\n",
      "Right Number\n",
      "Continue\n"
     ]
    }
   ],
   "source": [
    "# 3. Create a Python program for a guessing game where the user has to guess a single-digit number.\n",
    "number = 8\n",
    "user_input = int(input(\"Guess a single-digit number: \"))\n",
    "while number != user_input:\n",
    "    print(\"Incorrect Number!\")\n",
    "    user_input = int(input(\"Guess a single-digit number: \"))\n",
    "print(\"Right Number\\nContinue\")\n",
    "\n"
   ]
  },
  {
   "cell_type": "code",
   "execution_count": 14,
   "metadata": {},
   "outputs": [
    {
     "name": "stdout",
     "output_type": "stream",
     "text": [
      "Correct! Moving on to the next number.\n",
      "Wrong number. The Correct Number was 2.\n",
      "Game Over\n"
     ]
    }
   ],
   "source": [
    "# 4. Create a Python program for a guessing game where the user has to guess a double-digit\n",
    "# number.\n",
    "target_numbers = \"12\"\n",
    "\n",
    "for current_index in range(len(target_numbers)):\n",
    "    current_number = target_numbers[current_index]\n",
    "    user_guess = input(f\"Guess the position {current_index + 1}: \")\n",
    "\n",
    "    if user_guess == current_number:\n",
    "        print(\"Correct! Moving on to the next number.\")\n",
    "    else:\n",
    "        print(f\"Wrong number. The Correct Number was {current_number}.\\nGame Over\")\n",
    "        break\n",
    "else:\n",
    "    print(\"Congratulations!! You guessed all the numbers correctly.\")\n",
    "    print(f\"The Number was {current_number}.\")\n"
   ]
  },
  {
   "cell_type": "code",
   "execution_count": null,
   "metadata": {},
   "outputs": [],
   "source": []
  }
 ],
 "metadata": {
  "kernelspec": {
   "display_name": "Python 3",
   "language": "python",
   "name": "python3"
  },
  "language_info": {
   "codemirror_mode": {
    "name": "ipython",
    "version": 3
   },
   "file_extension": ".py",
   "mimetype": "text/x-python",
   "name": "python",
   "nbconvert_exporter": "python",
   "pygments_lexer": "ipython3",
   "version": "3.11.2"
  }
 },
 "nbformat": 4,
 "nbformat_minor": 2
}
