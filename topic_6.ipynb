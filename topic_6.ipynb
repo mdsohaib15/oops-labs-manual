{
 "cells": [
  {
   "cell_type": "code",
   "execution_count": 5,
   "metadata": {},
   "outputs": [
    {
     "name": "stdout",
     "output_type": "stream",
     "text": [
      "Constructor called\n",
      "Destructor called\n"
     ]
    }
   ],
   "source": [
    "# 1. Create a Python class with a constructor and a destructor.\n",
    "class MyClass:\n",
    "    def __init__(self):\n",
    "        print(\"Constructor called\")\n",
    "    \n",
    "    def __del__(self):\n",
    "        print(\"Destructor called\")\n",
    "\n",
    "# Creating an instance of MyClass\n",
    "obj = MyClass()\n",
    "\n",
    "# Destructor will be called automatically when the object is no longer referenced\n",
    "# However, the timing of the destructor call is not guaranteed due to Python's garbage collection mechanism\n"
   ]
  },
  {
   "cell_type": "code",
   "execution_count": null,
   "metadata": {},
   "outputs": [],
   "source": [
    "# 2. Implement a marksheet program using classes in Python.\n",
    "class Marksheet:\n",
    "    def __init__(self, name, roll_number):\n",
    "        self.name = name\n",
    "        self.roll_number = roll_number\n",
    "        self.marks = {}\n",
    "\n",
    "    def add_subject_marks(self, subject, marks):\n",
    "        self.marks[subject] = marks\n",
    "\n",
    "    def calculate_total_marks(self):\n",
    "        total_marks = sum(self.marks.values())\n",
    "        return total_marks\n",
    "\n",
    "    def calculate_percentage(self, total_marks, total_subjects):\n",
    "        percentage = (total_marks / (total_subjects * 100)) * 100\n",
    "        return percentage\n",
    "\n",
    "    def display_marksheet(self):\n",
    "        print(\"Name:\", self.name)\n",
    "        print(\"Roll Number:\", self.roll_number)\n",
    "        print(\"Marks:\")\n",
    "        for subject, marks in self.marks.items():\n",
    "            print(subject + \":\", marks)\n",
    "        total_marks = self.calculate_total_marks()\n",
    "        total_subjects = len(self.marks)\n",
    "        print(\"Total Marks:\", total_marks)\n",
    "        print(\"Percentage:\", self.calculate_percentage(total_marks, total_subjects), \"%\")\n",
    "\n",
    "\n",
    "# Usage\n",
    "student1 = Marksheet(\"John Doe\", \"12345\")\n",
    "\n",
    "# Add marks for different subjects\n",
    "student1.add_subject_marks(\"Mathematics\", 90)\n",
    "student1.add_subject_marks(\"Science\", 85)\n",
    "student1.add_subject_marks(\"English\", 80)\n",
    "\n",
    "# Display marksheet\n",
    "student1.display_marksheet()\n"
   ]
  }
 ],
 "metadata": {
  "kernelspec": {
   "display_name": "Python 3",
   "language": "python",
   "name": "python3"
  },
  "language_info": {
   "codemirror_mode": {
    "name": "ipython",
    "version": 3
   },
   "file_extension": ".py",
   "mimetype": "text/x-python",
   "name": "python",
   "nbconvert_exporter": "python",
   "pygments_lexer": "ipython3",
   "version": "3.11.2"
  }
 },
 "nbformat": 4,
 "nbformat_minor": 2
}
