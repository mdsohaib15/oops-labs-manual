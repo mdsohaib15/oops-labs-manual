{
 "cells": [
  {
   "cell_type": "code",
   "execution_count": null,
   "metadata": {},
   "outputs": [],
   "source": [
    "# Topic # 08\n",
    "# 1. Create a class in Python with public data members and member functions.\n",
    "# Public Access Modifier:\n",
    "class Car:\n",
    "          def __init__(self,name,model,color):\n",
    "                    self.name = name\n",
    "                    self.model = model\n",
    "                    self.color = color\n",
    "          def display(self):\n",
    "                    print(f\"Name: {self.name} \\nModel: {self.model} \\name: {self.color}\")\n",
    "c1 = Car(\"Supra\",\"MK4\",\"Yellow\")\n",
    "c1.display()\n"
   ]
  },
  {
   "cell_type": "code",
   "execution_count": null,
   "metadata": {},
   "outputs": [],
   "source": [
    "# 2. Create a class in Python with private data members and member functions.\n",
    "# Private Access Modifier:\n",
    "class Cricketer:\n",
    "    def __init__(self, name, jerseyNo, __totalRuns):\n",
    "        self.name = name \n",
    "        self.jerseyNo = jerseyNo \n",
    "        self.__totalRuns = __totalRuns\n",
    "        \n",
    "    def calculateRuns(self, runs):\n",
    "        self.__totalRuns += runs\n",
    "        print(f\"Name: {self.name} Runs Scored: {self.__totalRuns}\")\n",
    "        \n",
    "    def __printTotalRuns(self):\n",
    "        print(f\"Name: {self.name} Jersey Number: {self.jerseyNo} Total Runs: {self.__totalRuns}\")\n",
    "        \n",
    "    def printTotalRunsFromPublicMethod(self):\n",
    "        self.__printTotalRuns()\n",
    "\n",
    "# creating objects\n",
    "c1 = Cricketer(\"Babar Azam\", 56, 15000)\n",
    "c1.calculateRuns(78)\n",
    "# c1.__printTotalRuns()  # This line will raise an AttributeError as __printTotalRuns() is a private method\n",
    "c1.printTotalRunsFromPublicMethod()  # This will print the total runs\n"
   ]
  }
 ],
 "metadata": {
  "language_info": {
   "name": "python"
  }
 },
 "nbformat": 4,
 "nbformat_minor": 2
}
