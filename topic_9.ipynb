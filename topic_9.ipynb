{
 "cells": [
  {
   "cell_type": "code",
   "execution_count": 4,
   "metadata": {},
   "outputs": [],
   "source": [
    "# Topic # 09\n",
    "# 1. Write a Python program that exports a marksheet using file handling.\n",
    "def generate_marksheet(name, roll_no, marks):\n",
    "    total_marks = sum(marks)\n",
    "    average_marks = total_marks / len(marks)\n",
    "    grade = calculate_grade(average_marks)\n",
    "\n",
    "    with open(\"marksheet.txt\", \"w\") as file:\n",
    "        file.write(\"Name: {}\\n\".format(name))\n",
    "        file.write(\"Roll No: {}\\n\".format(roll_no))\n",
    "        file.write(\"Marks:\\n\")\n",
    "        for i, mark in enumerate(marks, start=1):\n",
    "            file.write(\"Subject {}: {}\\n\".format(i, mark))\n",
    "        file.write(\"Total Marks: {}\\n\".format(total_marks))\n",
    "        file.write(\"Average Marks: {:.2f}\\n\".format(average_marks))\n",
    "        file.write(\"Grade: {}\\n\".format(grade))\n",
    "\n",
    "\n",
    "def calculate_grade(average_marks):\n",
    "    if average_marks >= 90:\n",
    "        return 'A'\n",
    "    elif average_marks >= 80:\n",
    "        return 'B'\n",
    "    elif average_marks >= 70:\n",
    "        return 'C'\n",
    "    elif average_marks >= 60:\n",
    "        return 'D'\n",
    "    else:\n",
    "        return 'F'\n",
    "\n",
    "\n",
    "# Example usage:\n",
    "name = \"Sohaib\"\n",
    "roll_no = \"22F-BSAI-40\"\n",
    "marks = [85, 90, 75, 80, 92]  # Example marks for 5 subjects\n",
    "generate_marksheet(name, roll_no, marks)\n"
   ]
  },
  {
   "cell_type": "code",
   "execution_count": 5,
   "metadata": {},
   "outputs": [],
   "source": [
    "# 2. Write a Python program that exports a multiplication table of an integer using file handling.\n",
    "def generate_multiplication_table(number):\n",
    "    with open(\"multiplication_table.txt\", \"w\") as file:\n",
    "        for i in range(1, 11):\n",
    "            file.write(\"{} x {} = {}\\n\".format(number, i, number*i))\n",
    "\n",
    "\n",
    "# Example usage:\n",
    "number = 8\n",
    "generate_multiplication_table(number)\n"
   ]
  },
  {
   "cell_type": "code",
   "execution_count": 3,
   "metadata": {},
   "outputs": [],
   "source": [
    "# 3. Write a Python program that exports bank transactions using file handling.\n",
    "def record_transaction(transaction_type, amount, balance):\n",
    "    with open(\"bank_transactions.txt\", \"a\") as file:\n",
    "        file.write(\"{}: ${}, Balance: ${}\\n\".format(transaction_type, amount, balance))\n",
    "\n",
    "\n",
    "# Example usage:\n",
    "record_transaction(\"Deposit\", 1000, 5000)\n",
    "record_transaction(\"Withdrawal\", 500, 4500)\n",
    "record_transaction(\"Deposit\", 200, 4700)\n"
   ]
  }
 ],
 "metadata": {
  "kernelspec": {
   "display_name": "Python 3",
   "language": "python",
   "name": "python3"
  },
  "language_info": {
   "codemirror_mode": {
    "name": "ipython",
    "version": 3
   },
   "file_extension": ".py",
   "mimetype": "text/x-python",
   "name": "python",
   "nbconvert_exporter": "python",
   "pygments_lexer": "ipython3",
   "version": "3.11.2"
  }
 },
 "nbformat": 4,
 "nbformat_minor": 2
}
