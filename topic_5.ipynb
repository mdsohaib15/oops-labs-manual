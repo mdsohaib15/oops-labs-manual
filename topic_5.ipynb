{
 "cells": [
  {
   "cell_type": "code",
   "execution_count": 12,
   "metadata": {},
   "outputs": [
    {
     "name": "stdout",
     "output_type": "stream",
     "text": [
      "Please enter valid integers.\n"
     ]
    }
   ],
   "source": [
    "# 1. Write a Python program that handles exceptions.\n",
    "# 2. Modify the program to specifically handle a ValueError.\n",
    "# 3. Modify the program to specifically handle a ZeroDivisionError.\n",
    "# 4. Modify the program to handle multiple types of e\n",
    "\n",
    "def division_program():\n",
    "    try:\n",
    "        num1 = int(input(\"Enter the first number: \"))\n",
    "        num2 = int(input(\"Enter the second number: \"))\n",
    "        result = num1 / num2\n",
    "        print(\"Result of division:\", result)\n",
    "    except ValueError:\n",
    "        print(\"Please enter valid integers.\")\n",
    "    except ZeroDivisionError:\n",
    "        print(\"Error: Cannot divide by zero.\")\n",
    "    except Exception as e:\n",
    "        print(\"An unexpected error occurred:\", e)\n",
    "\n",
    "# Testing the program\n",
    "division_program()\n",
    "\n",
    "# def divide_numbers(num1, num2):\n",
    "#     try:\n",
    "#         result = num1 / num2\n",
    "#         print(\"Result of division:\", result)\n",
    "#     except ValueError as ve:\n",
    "#         print(\"Error: Value Error -\", ve)\n",
    "#     except ZeroDivisionError:\n",
    "#         print(\"Error: Cannot divide by zero\")\n",
    "#     except Exception as e:\n",
    "#         print(\"An unexpected error occurred:\", e)\n",
    "\n",
    "# while True:\n",
    "#     try:\n",
    "#         num1 = float(input(\"Enter the first number: \"))\n",
    "#         num2 = float(input(\"Enter the second number: \"))\n",
    "#         divide_numbers(num1, num2)\n",
    "#         break\n",
    "#     except ValueError:\n",
    "#         print(\"Error: Please enter valid numeric inputs.\")\n",
    "\n",
    "# if __name__ == \"__main__\":\n",
    "#     main()\n"
   ]
  },
  {
   "cell_type": "code",
   "execution_count": null,
   "metadata": {},
   "outputs": [],
   "source": []
  }
 ],
 "metadata": {
  "kernelspec": {
   "display_name": "Python 3",
   "language": "python",
   "name": "python3"
  },
  "language_info": {
   "codemirror_mode": {
    "name": "ipython",
    "version": 3
   },
   "file_extension": ".py",
   "mimetype": "text/x-python",
   "name": "python",
   "nbconvert_exporter": "python",
   "pygments_lexer": "ipython3",
   "version": "3.11.2"
  }
 },
 "nbformat": 4,
 "nbformat_minor": 2
}
