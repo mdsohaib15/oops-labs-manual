{
 "cells": [
  {
   "cell_type": "code",
   "execution_count": 1,
   "metadata": {},
   "outputs": [
    {
     "name": "stdout",
     "output_type": "stream",
     "text": [
      "Welcome\n"
     ]
    }
   ],
   "source": [
    "# 1.Write a Python program that uses print statements to display a welcome message.\n",
    "print('Welcome')"
   ]
  },
  {
   "cell_type": "code",
   "execution_count": 2,
   "metadata": {},
   "outputs": [
    {
     "name": "stdout",
     "output_type": "stream",
     "text": [
      "Name: sohaib\n",
      "Age: 19\n",
      "Marks: 99.9\n",
      "Is Student: True\n"
     ]
    }
   ],
   "source": [
    "# 2.Demonstrate how to declare and use variables in Python.\n",
    "\n",
    "# declairing variable:\n",
    "name = 'sohaib' # A variable storing a string\n",
    "age = 19 # A variable storing a integer\n",
    "marks = 99.9 # A variable storing a floating-point number\n",
    "is_student = True # A variable storing a bolean value\n",
    "\n",
    "# Using variables\n",
    "print(\"Name:\", name)        \n",
    "print(\"Age:\", age)          \n",
    "print(\"Marks:\", marks)    \n",
    "print(\"Is Student:\", is_student)  \n",
    "\n"
   ]
  },
  {
   "cell_type": "code",
   "execution_count": 13,
   "metadata": {},
   "outputs": [
    {
     "name": "stdout",
     "output_type": "stream",
     "text": [
      "My Name is Sohaib ,Age is 19 and I studying BS-Artificial Intelligence\n"
     ]
    }
   ],
   "source": [
    "# 3.Create a Python program that takes user input and displays it.\n",
    "name = str(input('Enter your name:'))\n",
    "age = int(input('Enter your age:'))\n",
    "dept = str(input('Enter your department:'))\n",
    "print('My Name is',name, ',Age is',age,'and I studying',dept)"
   ]
  },
  {
   "cell_type": "code",
   "execution_count": null,
   "metadata": {},
   "outputs": [],
   "source": []
  }
 ],
 "metadata": {
  "kernelspec": {
   "display_name": "Python 3",
   "language": "python",
   "name": "python3"
  },
  "language_info": {
   "codemirror_mode": {
    "name": "ipython",
    "version": 3
   },
   "file_extension": ".py",
   "mimetype": "text/x-python",
   "name": "python",
   "nbconvert_exporter": "python",
   "pygments_lexer": "ipython3",
   "version": "3.11.2"
  }
 },
 "nbformat": 4,
 "nbformat_minor": 2
}
