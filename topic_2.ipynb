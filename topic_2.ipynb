{
 "cells": [
  {
   "cell_type": "code",
   "execution_count": 8,
   "metadata": {},
   "outputs": [
    {
     "name": "stdout",
     "output_type": "stream",
     "text": [
      "False\n",
      "Addition of 50 and 10 is: 60\n",
      "Sunbtraction of 50 and 10 is: 40\n",
      "Multiplication of 50 and 10 is: 500\n",
      "Division of 50 and 10 is: 5.0\n",
      "Modulus of 50 and 10 is: 0\n",
      "Is 50 greater than 10?: True\n",
      "Is 50 equal to 10?: False\n",
      "Is 50 not equal to 10?: True\n"
     ]
    }
   ],
   "source": [
    "'''1.Write a Python program that uses mathematical and logical operators to solve a simple\n",
    "arithmetic problem.'''\n",
    "# Arithmetic Operator\n",
    "num1 = 50\n",
    "num2 = 10\n",
    "addition = num1 + num2\n",
    "subtraction = num1 - num2\n",
    "multiplication = num1 * num2\n",
    "division = num1 / num2\n",
    "modulus = num1 % num2\n",
    "\n",
    "# Apply Logical Operator:\n",
    "is_greater_than = num1 > num2\n",
    "is_equal_to = num1 == num2\n",
    "is_not_equal_to = num1 != num2\n",
    "\n",
    "print(greater)\n",
    "\n",
    "print(f'Addition of {num1} and {num2} is:',addition)\n",
    "print(f'Sunbtraction of {num1} and {num2} is:',subtraction)\n",
    "print(f'Multiplication of {num1} and {num2} is:',multiplication)\n",
    "print(f'Division of {num1} and {num2} is:',division)\n",
    "print(f'Modulus of {num1} and {num2} is:',modulus)\n",
    "print(f\"Is {num1} greater than {num2}?:\", is_greater_than)\n",
    "print(f\"Is {num1} equal to {num2}?:\", is_equal_to)\n",
    "print(f\"Is {num1} not equal to {num2}?:\", is_not_equal_to)\n"
   ]
  },
  {
   "cell_type": "code",
   "execution_count": null,
   "metadata": {},
   "outputs": [],
   "source": []
  }
 ],
 "metadata": {
  "kernelspec": {
   "display_name": "Python 3",
   "language": "python",
   "name": "python3"
  },
  "language_info": {
   "codemirror_mode": {
    "name": "ipython",
    "version": 3
   },
   "file_extension": ".py",
   "mimetype": "text/x-python",
   "name": "python",
   "nbconvert_exporter": "python",
   "pygments_lexer": "ipython3",
   "version": "3.11.2"
  }
 },
 "nbformat": 4,
 "nbformat_minor": 2
}
