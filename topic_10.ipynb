{
 "cells": [
  {
   "cell_type": "code",
   "execution_count": null,
   "metadata": {},
   "outputs": [],
   "source": [
    "# Topic # 10\n",
    "# 1. Explain the purpose of the Smart Divide decorator in Python and provide a code example.\n",
    "def smart_divide(func):\n",
    "    def inner_divide(a, b):\n",
    "        try:\n",
    "            result = func(a, b)\n",
    "            return result\n",
    "        except ZeroDivisionError:\n",
    "            print(\"Error: Division by zero!\")\n",
    "            return None  # Returning None as a default value in case of division by zero\n",
    "    return inner_divide\n",
    "\n",
    "@smart_divide\n",
    "def divide(a, b):\n",
    "    return a / b\n",
    "\n",
    "# Using the decorated divide function\n",
    "result1 = divide(10, 2)  # This will not raise any error\n",
    "print(\"Result 1:\", result1)  # Output: Result 1: 5.0\n",
    "\n",
    "result2 = divide(10, 0)  # This will raise a division by zero error\n",
    "print(\"Result 2:\", result2)  # Output: Error: Division by zero! Result 2: None\n"
   ]
  }
 ],
 "metadata": {
  "language_info": {
   "name": "python"
  }
 },
 "nbformat": 4,
 "nbformat_minor": 2
}
