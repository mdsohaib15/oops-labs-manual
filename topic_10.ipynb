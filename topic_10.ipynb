{
 "cells": [
  {
   "cell_type": "code",
   "execution_count": 1,
   "metadata": {},
   "outputs": [
    {
     "name": "stdout",
     "output_type": "stream",
     "text": [
      "Result 1: 5.0\n",
      "Error: Division by zero!\n",
      "Result 2: None\n"
     ]
    }
   ],
   "source": [
    "# Topic # 10\n",
    "# 1. Explain the purpose of the Smart Divide decorator in Python and provide a code example.\n",
    "def smart_divide(func):\n",
    "    def inner_divide(a, b):\n",
    "        try:\n",
    "            result = func(a, b)\n",
    "            return result\n",
    "        except ZeroDivisionError:\n",
    "            print(\"Error: Division by zero!\")\n",
    "            return None  # Returning None as a default value in case of division by zero\n",
    "    return inner_divide\n",
    "    \n",
    "\n",
    "@smart_divide\n",
    "def divide(a, b):\n",
    "    return a / b\n",
    "\n",
    "# Using the decorated divide function\n",
    "result1 = divide(10, 2)  # This will not raise any error\n",
    "print(\"Result 1:\", result1)  # Output: Result 1: 5.0\n",
    "\n",
    "result2 = divide(10, 0)  # This will raise a division by zero error\n",
    "print(\"Result 2:\", result2)  # Output: Error: Division by zero! Result 2: None\n"
   ]
  },
  {
   "cell_type": "code",
   "execution_count": null,
   "metadata": {},
   "outputs": [],
   "source": []
  }
 ],
 "metadata": {
  "kernelspec": {
   "display_name": "Python 3",
   "language": "python",
   "name": "python3"
  },
  "language_info": {
   "codemirror_mode": {
    "name": "ipython",
    "version": 3
   },
   "file_extension": ".py",
   "mimetype": "text/x-python",
   "name": "python",
   "nbconvert_exporter": "python",
   "pygments_lexer": "ipython3",
   "version": "3.11.2"
  }
 },
 "nbformat": 4,
 "nbformat_minor": 2
}
